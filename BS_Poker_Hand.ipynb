{
 "cells": [
  {
   "cell_type": "code",
   "execution_count": null,
   "metadata": {},
   "outputs": [],
   "source": [
    "import numpy as np\n",
    "import matplotlib.pyplot as plt\n",
    "from collections import Counter"
   ]
  },
  {
   "cell_type": "markdown",
   "metadata": {},
   "source": [
    "# Deck and Hand"
   ]
  },
  {
   "cell_type": "code",
   "execution_count": 44,
   "metadata": {},
   "outputs": [],
   "source": [
    "class Deck:\n",
    "    def __init__(self):\n",
    "        '''\n",
    "        Initialize poker deck\n",
    "        First index i: rank/number\n",
    "        Second index j: suite\n",
    "        '''\n",
    "        self.deck = np.array([[i,j] for i in range(13) for j in range(4)])\n",
    "        \n",
    "    def draw(self, total):\n",
    "        '''\n",
    "        draw total different cards from the deck\n",
    "        '''\n",
    "        random_numbers = np.random.choice(range(1, 52), size=total, replace=False)\n",
    "        full_hand = self.deck[random_numbers]\n",
    "        return full_hand\n",
    "    \n",
    "class Hand:\n",
    "    def __init__(self, hand):\n",
    "        '''\n",
    "        initialize hand\n",
    "        '''\n",
    "        self.hand = np.array(hand)\n",
    "    \n",
    "    def is_flush(self):\n",
    "        '''\n",
    "        check if it's a flush\n",
    "        '''\n",
    "        suits = self.hand[:,1]\n",
    "        suit_counts = Counter(suits)\n",
    "        for count in suit_counts.values():\n",
    "            if count >=5:\n",
    "                return True\n",
    "        return False\n",
    "    \n",
    "    def is_straight(self):\n",
    "        '''\n",
    "        Check if the hand contains a straight (5 consecutive ranks).\n",
    "        Ace is only high\n",
    "        '''\n",
    "        # Extract the ranks of all cards (assuming the first element is the rank)\n",
    "        ranks = [card[0] for card in self.hand]\n",
    "\n",
    "        # Remove duplicates and sort the ranks\n",
    "        unique_ranks = sorted(set(ranks))\n",
    "\n",
    "        # Check if there are at least 5 unique ranks\n",
    "        for i in range(len(unique_ranks) - 4):\n",
    "            # Check if these 5 consecutive ranks form a straight\n",
    "            if unique_ranks[i + 4] - unique_ranks[i] == 4:\n",
    "                return True\n",
    "\n",
    "        return False\n",
    "    \n",
    "    def has_three_of_a_kind(self):\n",
    "        '''\n",
    "        Check if the hand contains Three of a Kind (3 cards of the same rank).\n",
    "        '''\n",
    "        # Extract the ranks of all cards (assuming the first element is the rank)\n",
    "        ranks = [card[0] for card in self.hand]\n",
    "\n",
    "        # Count the frequency of each rank using Counter\n",
    "        rank_counts = Counter(ranks)\n",
    "\n",
    "        # Check if any rank appears exactly 3 times\n",
    "        for count in rank_counts.values():\n",
    "            if count == 3:\n",
    "                return True\n",
    "\n",
    "        return False\n"
   ]
  },
  {
   "cell_type": "markdown",
   "metadata": {},
   "source": [
    "# Testing purposes"
   ]
  },
  {
   "cell_type": "code",
   "execution_count": 66,
   "metadata": {},
   "outputs": [],
   "source": [
    "deck = Deck()\n",
    "hand = deck.draw(5)"
   ]
  },
  {
   "cell_type": "code",
   "execution_count": 67,
   "metadata": {},
   "outputs": [
    {
     "name": "stdout",
     "output_type": "stream",
     "text": [
      "False\n",
      "False\n",
      "False\n"
     ]
    }
   ],
   "source": [
    "test_hand = Hand(hand) \n",
    "print(test_hand.is_flush())\n",
    "print(test_hand.is_straight())\n",
    "print(test_hand.has_three_of_a_kind())"
   ]
  },
  {
   "cell_type": "code",
   "execution_count": 68,
   "metadata": {},
   "outputs": [
    {
     "data": {
      "text/plain": [
       "array([[12,  0],\n",
       "       [ 6,  0],\n",
       "       [ 5,  0],\n",
       "       [ 8,  2],\n",
       "       [ 9,  0]])"
      ]
     },
     "execution_count": 68,
     "metadata": {},
     "output_type": "execute_result"
    }
   ],
   "source": [
    "hand"
   ]
  },
  {
   "cell_type": "markdown",
   "metadata": {},
   "source": [
    "# Monte Carlo"
   ]
  },
  {
   "cell_type": "code",
   "execution_count": 63,
   "metadata": {},
   "outputs": [],
   "source": [
    "class MC:\n",
    "    def __init__(self, nsamples, max_cards):\n",
    "        self.deck = Deck()\n",
    "        self.nsamples = nsamples\n",
    "        self.max_cards = max_cards\n",
    "\n",
    "    def run_sim(self):\n",
    "        self.num_flush = np.zeros(self.max_cards)\n",
    "        self.num_straight = np.zeros(self.max_cards)\n",
    "        self.num_three_kind = np.zeros(self.max_cards)\n",
    "\n",
    "        for num_cards in range(self.max_cards):\n",
    "            for i in range(self.nsamples):\n",
    "                hand = Hand(deck.draw(num_cards))\n",
    "                self.num_flush[num_cards] += hand.is_flush()\n",
    "                self.num_straight[num_cards]    += hand.is_straight()\n",
    "                self.num_three_kind[num_cards] += hand.has_three_of_a_kind()\n",
    "                \n",
    "    def plot_all(self):\n",
    "        plt.scatter(range(self.max_cards), self.num_straight / self.nsamples, label = \"straight\")\n",
    "        plt.scatter(range(self.max_cards), self.num_flush / self.nsamples, label = \"flush\")\n",
    "        plt.scatter(range(self.max_cards), self.num_three_kind / self.nsamples, label = \"three kind\")\n",
    "        plt.xlabel('Total cards')\n",
    "        plt.ylabel('Probability')\n",
    "        plt.legend()"
   ]
  },
  {
   "cell_type": "code",
   "execution_count": 69,
   "metadata": {},
   "outputs": [
    {
     "data": {
      "image/png": "[encoded data removed]",
      "text/plain": [
       "<Figure size 432x288 with 1 Axes>"
      ]
     },
     "metadata": {
      "needs_background": "light"
     },
     "output_type": "display_data"
    }
   ],
   "source": [
    "monte_carlo = MC(nsamples = 2000, max_cards = 10)\n",
    "monte_carlo.run_sim()\n",
    "monte_carlo.plot_all()"
   ]
  },
  {
   "cell_type": "code",
   "execution_count": 70,
   "metadata": {},
   "outputs": [
    {
     "data": {
      "image/png": "[encoded data removed]",
      "text/plain": [
       "<Figure size 432x288 with 1 Axes>"
      ]
     },
     "metadata": {
      "needs_background": "light"
     },
     "output_type": "display_data"
    }
   ],
   "source": [
    "monte_carlo = MC(nsamples = 2000, max_cards = 20)\n",
    "monte_carlo.run_sim()\n",
    "monte_carlo.plot_all()"
   ]
  },
  {
   "cell_type": "code",
   "execution_count": null,
   "metadata": {},
   "outputs": [],
   "source": []
  }
 ],
 "metadata": {
  "kernelspec": {
   "display_name": "Python 3",
   "language": "python",
   "name": "python3"
  },
  "language_info": {
   "codemirror_mode": {
    "name": "ipython",
    "version": 3
   },
   "file_extension": ".py",
   "mimetype": "text/x-python",
   "name": "python",
   "nbconvert_exporter": "python",
   "pygments_lexer": "ipython3",
   "version": "3.7.3"
  }
 },
 "nbformat": 4,
 "nbformat_minor": 2
}
